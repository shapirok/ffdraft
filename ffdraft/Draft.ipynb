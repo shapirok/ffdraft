{
 "cells": [
  {
   "cell_type": "code",
   "execution_count": 1,
   "metadata": {
    "collapsed": false
   },
   "outputs": [],
   "source": [
    "import DraftRunner as dr\n",
    "import Draft as d\n",
    "myDraft = d.Draft()"
   ]
  },
  {
   "cell_type": "code",
   "execution_count": 2,
   "metadata": {},
   "outputs": [
    {
     "name": "stdout",
     "output_type": "stream",
     "text": [
      "\n",
      "Quit\n",
      "\n",
      "\n"
     ]
    },
    {
     "data": {
      "text/plain": [
       "<DraftRunner.ConsoleDraftRunner at 0x94d4270>"
      ]
     },
     "execution_count": 2,
     "metadata": {},
     "output_type": "execute_result"
    }
   ],
   "source": [
    "dr.ConsoleDraftRunner(myDraft, runContinuous=True)"
   ]
  },
  {
   "cell_type": "code",
   "execution_count": 3,
   "metadata": {},
   "outputs": [
    {
     "data": {
      "text/html": [
       "<div>\n",
       "<table border=\"1\" class=\"dataframe\">\n",
       "  <thead>\n",
       "    <tr style=\"text-align: right;\">\n",
       "      <th></th>\n",
       "      <th>First</th>\n",
       "      <th>Last</th>\n",
       "      <th>Position</th>\n",
       "      <th>Team</th>\n",
       "      <th>Pick</th>\n",
       "      <th>Roster</th>\n",
       "    </tr>\n",
       "  </thead>\n",
       "  <tbody>\n",
       "    <tr>\n",
       "      <th>T GUR RB LAR</th>\n",
       "      <td>Todd</td>\n",
       "      <td>Gurley</td>\n",
       "      <td>LAR</td>\n",
       "      <td>RB</td>\n",
       "      <td>1.0</td>\n",
       "      <td>1.0</td>\n",
       "    </tr>\n",
       "    <tr>\n",
       "      <th>L BEL RB PIT</th>\n",
       "      <td>Le'Veon</td>\n",
       "      <td>Bell</td>\n",
       "      <td>PIT</td>\n",
       "      <td>RB</td>\n",
       "      <td>2.0</td>\n",
       "      <td>2.0</td>\n",
       "    </tr>\n",
       "  </tbody>\n",
       "</table>\n",
       "</div>"
      ],
      "text/plain": [
       "                First    Last Position Team  Pick  Roster\n",
       "T GUR RB LAR     Todd  Gurley      LAR   RB   1.0     1.0\n",
       "L BEL RB PIT  Le'Veon    Bell      PIT   RB   2.0     2.0"
      ]
     },
     "execution_count": 3,
     "metadata": {},
     "output_type": "execute_result"
    }
   ],
   "source": [
    "myDraft.draftList"
   ]
  },
  {
   "cell_type": "code",
   "execution_count": null,
   "metadata": {},
   "outputs": [],
   "source": []
  }
 ],
 "metadata": {
  "kernelspec": {
   "display_name": "Python 3",
   "language": "python",
   "name": "python3"
  },
  "language_info": {
   "codemirror_mode": {
    "name": "ipython",
    "version": 3
   },
   "file_extension": ".py",
   "mimetype": "text/x-python",
   "name": "python",
   "nbconvert_exporter": "python",
   "pygments_lexer": "ipython3",
   "version": "3.5.2"
  }
 },
 "nbformat": 4,
 "nbformat_minor": 2
}
